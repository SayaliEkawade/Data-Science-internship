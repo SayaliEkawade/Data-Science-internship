{
  "nbformat": 4,
  "nbformat_minor": 0,
  "metadata": {
    "colab": {
      "provenance": []
    },
    "kernelspec": {
      "name": "python3",
      "display_name": "Python 3"
    },
    "language_info": {
      "name": "python"
    }
  },
  "cells": [
    {
      "cell_type": "markdown",
      "source": [
        "**Task 1**\n",
        "Iris Flower Classification"
      ],
      "metadata": {
        "id": "yhxR8pTsCWHO"
      }
    },
    {
      "cell_type": "markdown",
      "source": [
        "● Use measurements of Iris flowers (setosa, versicolor, virginica) as input data.\n",
        "● Train a machine learning model to classify the species based on these measurements.\n",
        "● Use libraries like Scikit-learn for easy dataset access and model building.\n",
        "● Evaluate the model’s accuracy and performance using test data.\n",
        "● Understand basic classification concepts in machine learning.\n"
      ],
      "metadata": {
        "id": "nVe6DYompll2"
      }
    },
    {
      "cell_type": "code",
      "source": [
        "# 1. Use measurements of Iris flowers (setosa, versicolor, virginica) as input data.\n",
        "\n",
        "import pandas as pd\n",
        "from sklearn.model_selection import train_test_split\n",
        "from sklearn.tree import DecisionTreeClassifier\n",
        "from sklearn.metrics import accuracy_score\n",
        "\n",
        "df = pd.read_csv(\"/content/Iris.csv\")\n",
        "\n",
        "if \"Id\" in df.columns:\n",
        "    df = df.drop(\"Id\", axis=1)\n",
        "\n",
        "X = df.drop(\"Species\", axis=1)\n",
        "y = df[\"Species\"]\n",
        "\n",
        "X_train, X_test, y_train, y_test = train_test_split(X, y, test_size=0.2, random_state=42)\n",
        "\n",
        "model = DecisionTreeClassifier()\n",
        "model.fit(X_train, y_train)\n",
        "\n",
        "y_pred = model.predict(X_test)\n",
        "\n",
        "print(\"Decision Tree Accuracy:\", accuracy_score(y_test, y_pred))\n"
      ],
      "metadata": {
        "colab": {
          "base_uri": "https://localhost:8080/"
        },
        "id": "n9kr8gCxqg7z",
        "outputId": "a68df40e-3b88-4935-8b4b-461275741ada"
      },
      "execution_count": null,
      "outputs": [
        {
          "output_type": "stream",
          "name": "stdout",
          "text": [
            "Decision Tree Accuracy: 1.0\n"
          ]
        }
      ]
    },
    {
      "cell_type": "code",
      "source": [
        "# 2. Train a machine learning model to classify the species based on these measurements.\n",
        "\n",
        "import pandas as pd\n",
        "from sklearn.model_selection import train_test_split\n",
        "from sklearn.tree import DecisionTreeClassifier\n",
        "from sklearn.metrics import accuracy_score, classification_report\n",
        "\n",
        "df = pd.read_csv(\"/content/Iris.csv\")\n",
        "\n",
        "X = df[[\"SepalLengthCm\", \"SepalWidthCm\", \"PetalLengthCm\", \"PetalWidthCm\"]]\n",
        "y = df[\"Species\"]\n",
        "\n",
        "X_train, X_test, y_train, y_test = train_test_split(\n",
        "    X, y, test_size=0.2, random_state=42\n",
        ")\n",
        "\n",
        "model = DecisionTreeClassifier(random_state=42)\n",
        "model.fit(X_train, y_train)\n",
        "\n",
        "y_pred = model.predict(X_test)\n",
        "\n",
        "print(\"Accuracy:\", accuracy_score(y_test, y_pred))\n",
        "print(\"\\nClassification Report:\\n\", classification_report(y_test, y_pred))\n",
        "\n",
        "sample = [[5.1, 3.5, 1.4, 0.2]]\n",
        "print(\"Predicted species:\", model.predict(sample)[0])\n",
        "\n",
        "\n"
      ],
      "metadata": {
        "colab": {
          "base_uri": "https://localhost:8080/"
        },
        "id": "n1nDBkQnE8M7",
        "outputId": "ccfbc5b4-2164-4433-fcde-e9e14f863173"
      },
      "execution_count": null,
      "outputs": [
        {
          "output_type": "stream",
          "name": "stdout",
          "text": [
            "Accuracy: 1.0\n",
            "\n",
            "Classification Report:\n",
            "                  precision    recall  f1-score   support\n",
            "\n",
            "    Iris-setosa       1.00      1.00      1.00        10\n",
            "Iris-versicolor       1.00      1.00      1.00         9\n",
            " Iris-virginica       1.00      1.00      1.00        11\n",
            "\n",
            "       accuracy                           1.00        30\n",
            "      macro avg       1.00      1.00      1.00        30\n",
            "   weighted avg       1.00      1.00      1.00        30\n",
            "\n",
            "Predicted species: Iris-setosa\n"
          ]
        },
        {
          "output_type": "stream",
          "name": "stderr",
          "text": [
            "/usr/local/lib/python3.12/dist-packages/sklearn/utils/validation.py:2739: UserWarning: X does not have valid feature names, but DecisionTreeClassifier was fitted with feature names\n",
            "  warnings.warn(\n"
          ]
        }
      ]
    },
    {
      "cell_type": "code",
      "source": [
        "# 3. Use libraries like Scikit-learn for easy dataset access and model building.\n",
        "\n",
        "\n",
        "import pandas as pd\n",
        "from sklearn.model_selection import train_test_split\n",
        "from sklearn.tree import DecisionTreeClassifier\n",
        "from sklearn.metrics import accuracy_score, classification_report\n",
        "\n",
        "df = pd.read_csv(\"/content/Iris.csv\")\n",
        "\n",
        "X = df[[\"SepalLengthCm\", \"SepalWidthCm\", \"PetalLengthCm\", \"PetalWidthCm\"]]\n",
        "y = df[\"Species\"]\n",
        "\n",
        "X_train, X_test, y_train, y_test = train_test_split(\n",
        "    X, y, test_size=0.2, random_state=42\n",
        ")\n",
        "\n",
        "model = DecisionTreeClassifier(random_state=42)\n",
        "model.fit(X_train, y_train)\n",
        "\n",
        "y_pred = model.predict(X_test)\n",
        "\n",
        "print(\"Accuracy:\", accuracy_score(y_test, y_pred))\n",
        "print(\"\\nClassification Report:\\n\", classification_report(y_test, y_pred))\n",
        "\n",
        "sample = [[5.1, 3.5, 1.4, 0.2]]\n",
        "print(\"Predicted Species:\", model.predict(sample)[0])\n"
      ],
      "metadata": {
        "colab": {
          "base_uri": "https://localhost:8080/"
        },
        "id": "f15R0XYUFmFk",
        "outputId": "ddd7b609-90d9-423d-ae6e-339eba928a72"
      },
      "execution_count": null,
      "outputs": [
        {
          "output_type": "stream",
          "name": "stdout",
          "text": [
            "Accuracy: 1.0\n",
            "\n",
            "Classification Report:\n",
            "                  precision    recall  f1-score   support\n",
            "\n",
            "    Iris-setosa       1.00      1.00      1.00        10\n",
            "Iris-versicolor       1.00      1.00      1.00         9\n",
            " Iris-virginica       1.00      1.00      1.00        11\n",
            "\n",
            "       accuracy                           1.00        30\n",
            "      macro avg       1.00      1.00      1.00        30\n",
            "   weighted avg       1.00      1.00      1.00        30\n",
            "\n",
            "Predicted Species: Iris-setosa\n"
          ]
        },
        {
          "output_type": "stream",
          "name": "stderr",
          "text": [
            "/usr/local/lib/python3.12/dist-packages/sklearn/utils/validation.py:2739: UserWarning: X does not have valid feature names, but DecisionTreeClassifier was fitted with feature names\n",
            "  warnings.warn(\n"
          ]
        }
      ]
    },
    {
      "cell_type": "code",
      "source": [
        "# 4. Evaluate the model’s accuracy and performance using test data.\n",
        "\n",
        "import pandas as pd\n",
        "from sklearn.model_selection import train_test_split\n",
        "from sklearn.tree import DecisionTreeClassifier\n",
        "from sklearn.metrics import accuracy_score, classification_report, confusion_matrix\n",
        "\n",
        "df = pd.read_csv(\"/content/Iris.csv\")\n",
        "\n",
        "X = df[[\"SepalLengthCm\", \"SepalWidthCm\", \"PetalLengthCm\", \"PetalWidthCm\"]]\n",
        "y = df[\"Species\"]\n",
        "\n",
        "X_train, X_test, y_train, y_test = train_test_split(\n",
        "    X, y, test_size=0.2, random_state=42\n",
        ")\n",
        "\n",
        "model = DecisionTreeClassifier(random_state=42)\n",
        "model.fit(X_train, y_train)\n",
        "\n",
        "y_pred = model.predict(X_test)\n",
        "\n",
        "print(\"Accuracy:\", accuracy_score(y_test, y_pred))\n",
        "print(\"\\nClassification Report:\\n\", classification_report(y_test, y_pred))\n",
        "print(\"\\nConfusion Matrix:\\n\", confusion_matrix(y_test, y_pred))\n",
        "\n"
      ],
      "metadata": {
        "colab": {
          "base_uri": "https://localhost:8080/"
        },
        "id": "4FejYo1qGLt6",
        "outputId": "7223b5c6-3325-429c-df69-1944a48efaa7"
      },
      "execution_count": null,
      "outputs": [
        {
          "output_type": "stream",
          "name": "stdout",
          "text": [
            "Accuracy: 1.0\n",
            "\n",
            "Classification Report:\n",
            "                  precision    recall  f1-score   support\n",
            "\n",
            "    Iris-setosa       1.00      1.00      1.00        10\n",
            "Iris-versicolor       1.00      1.00      1.00         9\n",
            " Iris-virginica       1.00      1.00      1.00        11\n",
            "\n",
            "       accuracy                           1.00        30\n",
            "      macro avg       1.00      1.00      1.00        30\n",
            "   weighted avg       1.00      1.00      1.00        30\n",
            "\n",
            "\n",
            "Confusion Matrix:\n",
            " [[10  0  0]\n",
            " [ 0  9  0]\n",
            " [ 0  0 11]]\n"
          ]
        }
      ]
    },
    {
      "cell_type": "markdown",
      "source": [
        "# 5. Understand basic classification concepts in machine learning.\n",
        "\n",
        "What is Classification?\n",
        "\n",
        "Classification is a supervised machine learning type.\n",
        "\n",
        "The objective: Predict labels (categories) from input features.\n",
        "\n",
        "Example: Based on flower measurements (sepal length, width, etc.), predict the species (Setosa, Versicolor, Virginica).\n",
        "\n",
        "1. Features (X)\n",
        "\n",
        "Input variables used to predict.\n",
        "\n",
        "Example (Iris dataset):\n",
        "\n",
        "SepalLengthCm, SepalWidthCm, PetalLengthCm, PetalWidthCm.\n",
        "\n",
        "2. Target / Labels (y)\n",
        "\n",
        "Output category we need to predict.\n",
        "\n",
        "Example: Species (Setosa, Versicolor, Virginica).\n",
        "\n",
        "3. Training Data vs Test Data\n",
        "\n",
        "Training Data → Utilized to train the model patterns.\n",
        "\n",
        "Test Data → Utilized to validate how well the model performs on unseen data.\n",
        "\n",
        "4. Model\n",
        "\n",
        "Mathematical function/algorithm that learns from data.\n",
        "\n",
        "Examples:\n",
        "\n",
        "Decision Tree\n",
        "\n",
        "Logistic Regression\n",
        "\n",
        "Random Forest\n",
        "\n",
        "Support Vector Machine (SVM)\n",
        "\n",
        "Neural Networks\n",
        "\n",
        "5. Predictions\n",
        "\n",
        "After training, the model makes the class prediction of new input data.\n",
        "\n",
        "Example: [5.1, 3.5, 1.4, 0.2] → Setosa.\n",
        "Evaluation Metrics\n",
        "1. Accuracy\n",
        "\n",
        "Percentage of correct predictions.\n",
        "\n",
        "Example: Out of 100 predictions, 90 correct → Accuracy = 90%.\n",
        "\n",
        "2. Confusion Matrix\n",
        "\n",
        "Indicates how predictions match up against actual labels.\n",
        "\n",
        "Rows = Actual, Columns = Predicted.\n",
        "\n",
        "3. Precision\n",
        "\n",
        "Of all predicted positives, how many were truly positive?\n",
        "\n",
        "Good when false positives are significant (e.g., detection of spam email).\n",
        "\n",
        "4. Recall\n",
        "\n",
        "Of all actual positives, how many were we able to detect?\n",
        "\n",
        "Good when false negatives are significant (e.g., detection of cancer).\n",
        "\n",
        "5. F1-score\n",
        "\n",
        "Harmonic mean of precision & recall (balance between them).\n",
        "\n",
        "Iris Example (simple)\n",
        "\n",
        "Input: Measurements of flowers.\n",
        "\n",
        "Model: Decision Tree.\n",
        "\n",
        "Output: Classification of species.\n",
        "\n",
        "Accuracy: ~95–100% on test set."
      ],
      "metadata": {
        "id": "SASnh_p6HDP8"
      }
    },
    {
      "cell_type": "code",
      "source": [
        "import pandas as pd\n",
        "from sklearn.model_selection import train_test_split\n",
        "from sklearn.tree import DecisionTreeClassifier\n",
        "from sklearn.metrics import accuracy_score, classification_report, confusion_matrix\n",
        "\n",
        "df = pd.read_csv(\"/content/Iris.csv\")\n",
        "\n",
        "X = df[[\"SepalLengthCm\", \"SepalWidthCm\", \"PetalLengthCm\", \"PetalWidthCm\"]]\n",
        "y = df[\"Species\"]\n",
        "\n",
        "X_train, X_test, y_train, y_test = train_test_split(\n",
        "    X, y, test_size=0.2, random_state=42\n",
        ")\n",
        "\n",
        "model = DecisionTreeClassifier(random_state=42)\n",
        "\n",
        "model.fit(X_train, y_train)\n",
        "\n",
        "y_pred = model.predict(X_test)\n",
        "\n",
        "print(\"Accuracy:\", accuracy_score(y_test, y_pred))\n",
        "print(\"\\nClassification Report:\\n\", classification_report(y_test, y_pred))\n",
        "print(\"\\nConfusion Matrix:\\n\", confusion_matrix(y_test, y_pred))\n",
        "\n",
        "sample = [[5.1, 3.5, 1.4, 0.2]]  # Example flower measurements\n",
        "print(\"\\nPredicted Species for sample:\", model.predict(sample)[0])\n"
      ],
      "metadata": {
        "id": "Z1b0pQMaHmCT"
      },
      "execution_count": null,
      "outputs": []
    }
  ]
}